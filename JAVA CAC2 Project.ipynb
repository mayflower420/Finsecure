{
 "cells": [
  {
   "cell_type": "code",
   "execution_count": 46,
   "metadata": {},
   "outputs": [],
   "source": [
    "import pandas as pd\n",
    "import numpy as np\n",
    "from sklearn.preprocessing import StandardScaler\n",
    "from sklearn.model_selection import train_test_split\n",
    "from sklearn.linear_model import LinearRegression\n",
    "from sklearn.metrics import r2_score"
   ]
  },
  {
   "cell_type": "code",
   "execution_count": 50,
   "metadata": {},
   "outputs": [],
   "source": [
    "# Export data to CSV\n",
    "data=pd.read_csv('JAVA_CAC2_Project_data.csv')"
   ]
  },
  {
   "cell_type": "code",
   "execution_count": 51,
   "metadata": {},
   "outputs": [
    {
     "data": {
      "text/html": [
       "<div>\n",
       "<style scoped>\n",
       "    .dataframe tbody tr th:only-of-type {\n",
       "        vertical-align: middle;\n",
       "    }\n",
       "\n",
       "    .dataframe tbody tr th {\n",
       "        vertical-align: top;\n",
       "    }\n",
       "\n",
       "    .dataframe thead th {\n",
       "        text-align: right;\n",
       "    }\n",
       "</style>\n",
       "<table border=\"1\" class=\"dataframe\">\n",
       "  <thead>\n",
       "    <tr style=\"text-align: right;\">\n",
       "      <th></th>\n",
       "      <th>Monthly Income</th>\n",
       "      <th>Monthly Expenses</th>\n",
       "      <th>Existing Savings</th>\n",
       "      <th>Debt Obligations</th>\n",
       "      <th>Risk Factors</th>\n",
       "      <th>Household Size</th>\n",
       "      <th>Emergency Funds</th>\n",
       "    </tr>\n",
       "  </thead>\n",
       "  <tbody>\n",
       "    <tr>\n",
       "      <td>0</td>\n",
       "      <td>88268</td>\n",
       "      <td>28118</td>\n",
       "      <td>64707</td>\n",
       "      <td>2156</td>\n",
       "      <td>2</td>\n",
       "      <td>4</td>\n",
       "      <td>101736.201076</td>\n",
       "    </tr>\n",
       "    <tr>\n",
       "      <td>1</td>\n",
       "      <td>63567</td>\n",
       "      <td>16540</td>\n",
       "      <td>82214</td>\n",
       "      <td>907</td>\n",
       "      <td>2</td>\n",
       "      <td>5</td>\n",
       "      <td>91697.678596</td>\n",
       "    </tr>\n",
       "    <tr>\n",
       "      <td>2</td>\n",
       "      <td>62613</td>\n",
       "      <td>13418</td>\n",
       "      <td>155062</td>\n",
       "      <td>5026</td>\n",
       "      <td>0</td>\n",
       "      <td>2</td>\n",
       "      <td>142498.053194</td>\n",
       "    </tr>\n",
       "    <tr>\n",
       "      <td>3</td>\n",
       "      <td>65891</td>\n",
       "      <td>18778</td>\n",
       "      <td>63195</td>\n",
       "      <td>91</td>\n",
       "      <td>2</td>\n",
       "      <td>4</td>\n",
       "      <td>83421.037108</td>\n",
       "    </tr>\n",
       "    <tr>\n",
       "      <td>4</td>\n",
       "      <td>41243</td>\n",
       "      <td>31430</td>\n",
       "      <td>164382</td>\n",
       "      <td>1841</td>\n",
       "      <td>0</td>\n",
       "      <td>5</td>\n",
       "      <td>143975.890219</td>\n",
       "    </tr>\n",
       "  </tbody>\n",
       "</table>\n",
       "</div>"
      ],
      "text/plain": [
       "   Monthly Income  Monthly Expenses  Existing Savings  Debt Obligations  \\\n",
       "0           88268             28118             64707              2156   \n",
       "1           63567             16540             82214               907   \n",
       "2           62613             13418            155062              5026   \n",
       "3           65891             18778             63195                91   \n",
       "4           41243             31430            164382              1841   \n",
       "\n",
       "   Risk Factors  Household Size  Emergency Funds  \n",
       "0             2               4    101736.201076  \n",
       "1             2               5     91697.678596  \n",
       "2             0               2    142498.053194  \n",
       "3             2               4     83421.037108  \n",
       "4             0               5    143975.890219  "
      ]
     },
     "execution_count": 51,
     "metadata": {},
     "output_type": "execute_result"
    }
   ],
   "source": [
    "data.head()"
   ]
  },
  {
   "cell_type": "code",
   "execution_count": 52,
   "metadata": {
    "scrolled": true
   },
   "outputs": [
    {
     "name": "stdout",
     "output_type": "stream",
     "text": [
      "<class 'pandas.core.frame.DataFrame'>\n",
      "RangeIndex: 500 entries, 0 to 499\n",
      "Data columns (total 7 columns):\n",
      "Monthly Income      500 non-null int64\n",
      "Monthly Expenses    500 non-null int64\n",
      "Existing Savings    500 non-null int64\n",
      "Debt Obligations    500 non-null int64\n",
      "Risk Factors        500 non-null int64\n",
      "Household Size      500 non-null int64\n",
      "Emergency Funds     500 non-null float64\n",
      "dtypes: float64(1), int64(6)\n",
      "memory usage: 27.5 KB\n"
     ]
    }
   ],
   "source": [
    "data.info()"
   ]
  },
  {
   "cell_type": "code",
   "execution_count": 53,
   "metadata": {},
   "outputs": [
    {
     "data": {
      "text/html": [
       "<div>\n",
       "<style scoped>\n",
       "    .dataframe tbody tr th:only-of-type {\n",
       "        vertical-align: middle;\n",
       "    }\n",
       "\n",
       "    .dataframe tbody tr th {\n",
       "        vertical-align: top;\n",
       "    }\n",
       "\n",
       "    .dataframe thead th {\n",
       "        text-align: right;\n",
       "    }\n",
       "</style>\n",
       "<table border=\"1\" class=\"dataframe\">\n",
       "  <thead>\n",
       "    <tr style=\"text-align: right;\">\n",
       "      <th></th>\n",
       "      <th>Monthly Income</th>\n",
       "      <th>Monthly Expenses</th>\n",
       "      <th>Existing Savings</th>\n",
       "      <th>Debt Obligations</th>\n",
       "      <th>Risk Factors</th>\n",
       "      <th>Household Size</th>\n",
       "      <th>Emergency Funds</th>\n",
       "    </tr>\n",
       "  </thead>\n",
       "  <tbody>\n",
       "    <tr>\n",
       "      <td>count</td>\n",
       "      <td>500.000000</td>\n",
       "      <td>500.00000</td>\n",
       "      <td>500.00000</td>\n",
       "      <td>500.0000</td>\n",
       "      <td>500.000000</td>\n",
       "      <td>500.000000</td>\n",
       "      <td>500.000000</td>\n",
       "    </tr>\n",
       "    <tr>\n",
       "      <td>mean</td>\n",
       "      <td>60905.066000</td>\n",
       "      <td>24967.34400</td>\n",
       "      <td>123571.02200</td>\n",
       "      <td>4946.6220</td>\n",
       "      <td>1.052000</td>\n",
       "      <td>3.014000</td>\n",
       "      <td>120906.396466</td>\n",
       "    </tr>\n",
       "    <tr>\n",
       "      <td>std</td>\n",
       "      <td>23418.912047</td>\n",
       "      <td>8748.29981</td>\n",
       "      <td>44078.49886</td>\n",
       "      <td>2894.2935</td>\n",
       "      <td>0.816474</td>\n",
       "      <td>1.404903</td>\n",
       "      <td>36827.278117</td>\n",
       "    </tr>\n",
       "    <tr>\n",
       "      <td>min</td>\n",
       "      <td>20093.000000</td>\n",
       "      <td>10062.00000</td>\n",
       "      <td>50739.00000</td>\n",
       "      <td>43.0000</td>\n",
       "      <td>0.000000</td>\n",
       "      <td>1.000000</td>\n",
       "      <td>37943.543935</td>\n",
       "    </tr>\n",
       "    <tr>\n",
       "      <td>25%</td>\n",
       "      <td>40174.000000</td>\n",
       "      <td>17401.00000</td>\n",
       "      <td>84892.50000</td>\n",
       "      <td>2534.0000</td>\n",
       "      <td>0.000000</td>\n",
       "      <td>2.000000</td>\n",
       "      <td>90109.733560</td>\n",
       "    </tr>\n",
       "    <tr>\n",
       "      <td>50%</td>\n",
       "      <td>61597.000000</td>\n",
       "      <td>24556.50000</td>\n",
       "      <td>123731.00000</td>\n",
       "      <td>4879.0000</td>\n",
       "      <td>1.000000</td>\n",
       "      <td>3.000000</td>\n",
       "      <td>121828.468780</td>\n",
       "    </tr>\n",
       "    <tr>\n",
       "      <td>75%</td>\n",
       "      <td>81725.000000</td>\n",
       "      <td>32960.25000</td>\n",
       "      <td>162368.50000</td>\n",
       "      <td>7400.0000</td>\n",
       "      <td>2.000000</td>\n",
       "      <td>4.000000</td>\n",
       "      <td>148426.190783</td>\n",
       "    </tr>\n",
       "    <tr>\n",
       "      <td>max</td>\n",
       "      <td>99983.000000</td>\n",
       "      <td>39946.00000</td>\n",
       "      <td>199925.00000</td>\n",
       "      <td>9993.0000</td>\n",
       "      <td>2.000000</td>\n",
       "      <td>5.000000</td>\n",
       "      <td>218405.972201</td>\n",
       "    </tr>\n",
       "  </tbody>\n",
       "</table>\n",
       "</div>"
      ],
      "text/plain": [
       "       Monthly Income  Monthly Expenses  Existing Savings  Debt Obligations  \\\n",
       "count      500.000000         500.00000         500.00000          500.0000   \n",
       "mean     60905.066000       24967.34400      123571.02200         4946.6220   \n",
       "std      23418.912047        8748.29981       44078.49886         2894.2935   \n",
       "min      20093.000000       10062.00000       50739.00000           43.0000   \n",
       "25%      40174.000000       17401.00000       84892.50000         2534.0000   \n",
       "50%      61597.000000       24556.50000      123731.00000         4879.0000   \n",
       "75%      81725.000000       32960.25000      162368.50000         7400.0000   \n",
       "max      99983.000000       39946.00000      199925.00000         9993.0000   \n",
       "\n",
       "       Risk Factors  Household Size  Emergency Funds  \n",
       "count    500.000000      500.000000       500.000000  \n",
       "mean       1.052000        3.014000    120906.396466  \n",
       "std        0.816474        1.404903     36827.278117  \n",
       "min        0.000000        1.000000     37943.543935  \n",
       "25%        0.000000        2.000000     90109.733560  \n",
       "50%        1.000000        3.000000    121828.468780  \n",
       "75%        2.000000        4.000000    148426.190783  \n",
       "max        2.000000        5.000000    218405.972201  "
      ]
     },
     "execution_count": 53,
     "metadata": {},
     "output_type": "execute_result"
    }
   ],
   "source": [
    "data.describe()"
   ]
  },
  {
   "cell_type": "code",
   "execution_count": 54,
   "metadata": {},
   "outputs": [],
   "source": [
    "# Split the data into training and testing sets\n",
    "X = data.drop(columns=['Emergency Funds'])\n",
    "y = data['Emergency Funds']\n",
    "X_train, X_test, y_train, y_test = train_test_split(X, y, test_size=0.2, random_state=42)"
   ]
  },
  {
   "cell_type": "code",
   "execution_count": 55,
   "metadata": {},
   "outputs": [],
   "source": [
    "# Scale the features\n",
    "scaler = StandardScaler()\n",
    "X_train_scaled = scaler.fit_transform(X_train)\n",
    "X_test_scaled = scaler.transform(X_test)"
   ]
  },
  {
   "cell_type": "code",
   "execution_count": 56,
   "metadata": {},
   "outputs": [
    {
     "data": {
      "text/plain": [
       "LinearRegression(copy_X=True, fit_intercept=True, n_jobs=None, normalize=False)"
      ]
     },
     "execution_count": 56,
     "metadata": {},
     "output_type": "execute_result"
    }
   ],
   "source": [
    "# Train the linear regression model\n",
    "regression_model = LinearRegression()\n",
    "regression_model.fit(X_train_scaled, y_train)"
   ]
  },
  {
   "cell_type": "code",
   "execution_count": 57,
   "metadata": {},
   "outputs": [],
   "source": [
    "# Make predictions on the testing set\n",
    "y_pred = regression_model.predict(X_test_scaled)"
   ]
  },
  {
   "cell_type": "code",
   "execution_count": 58,
   "metadata": {},
   "outputs": [
    {
     "name": "stdout",
     "output_type": "stream",
     "text": [
      "R-squared Score: 0.915633545727743\n"
     ]
    }
   ],
   "source": [
    "# Calculate R-squared score\n",
    "r2 = r2_score(y_test, y_pred)\n",
    "print(f\"R-squared Score: {r2}\")"
   ]
  },
  {
   "cell_type": "code",
   "execution_count": 61,
   "metadata": {},
   "outputs": [
    {
     "name": "stdout",
     "output_type": "stream",
     "text": [
      "Enter Monthly Income: 24000\n",
      "Enter Monthly Expenses: 12000\n",
      "Enter Existing Savings: 34000\n",
      "Enter Debt Obligations: 2000\n",
      "Enter Risk Factor (Low/Medium/High): Low\n",
      "Enter Household Size: 4\n",
      "Predicted Emergency Fund: 37371.03\n",
      "Predicted Insurance Type: Comprehensive Health Insurance\n"
     ]
    }
   ],
   "source": [
    "# Function to get user input and predict emergency fund\n",
    "def predict_emergency_fund():\n",
    "    # Get user input for features\n",
    "    monthly_income = float(input(\"Enter Monthly Income: \"))\n",
    "    monthly_expenses = float(input(\"Enter Monthly Expenses: \"))\n",
    "    existing_savings = float(input(\"Enter Existing Savings: \"))\n",
    "    debt_obligations = float(input(\"Enter Debt Obligations: \"))\n",
    "    risk_factor = input(\"Enter Risk Factor (Low/Medium/High): \")\n",
    "    household_size = int(input(\"Enter Household Size: \"))\n",
    "    \n",
    "    # Encode risk factor\n",
    "    risk_factor_encoder = {'Low': 0, 'Medium': 1, 'High': 2}\n",
    "    risk_factor_encoded = risk_factor_encoder.get(risk_factor.capitalize(), None)\n",
    "    \n",
    "    if risk_factor_encoded is None:\n",
    "        print(\"Invalid Risk Factor. Please enter Low, Medium, or High.\")\n",
    "        return\n",
    "    \n",
    "    # Prepare input data for prediction\n",
    "    user_input = pd.DataFrame({\n",
    "        'Monthly Income': [monthly_income],\n",
    "        'Monthly Expenses': [monthly_expenses],\n",
    "        'Existing Savings': [existing_savings],\n",
    "        'Debt Obligations': [debt_obligations],\n",
    "        'Risk Factors': [risk_factor_encoded],\n",
    "        'Household Size': [household_size]\n",
    "    })\n",
    "    \n",
    "    # Scale input data\n",
    "    user_input_scaled = scaler.transform(user_input)\n",
    "    \n",
    "    # Predict emergency fund\n",
    "    predicted_emergency_fund = regression_model.predict(user_input_scaled)[0]\n",
    "    print(f\"Predicted Emergency Fund: {predicted_emergency_fund:.2f}\")\n",
    "    \n",
    "    return predicted_emergency_fund\n",
    "\n",
    "# Call the function to predict emergency fund based on user input\n",
    "predicted_emergency_fund = predict_emergency_fund()\n",
    "\n",
    "# Function to suggest insurance type based on predicted emergency funds\n",
    "def suggest_insurance_type(predicted_emergency_fund):\n",
    "    if predicted_emergency_fund >= 15000:\n",
    "        return 'Comprehensive Health Insurance'\n",
    "    elif predicted_emergency_fund >= 10000:\n",
    "        return 'Standard Health Insurance'\n",
    "    elif predicted_emergency_fund >= 5000:\n",
    "        return 'Basic Health Insurance'\n",
    "    else:\n",
    "        return 'No Health Insurance Needed'\n",
    "\n",
    "# Call the function to suggest insurance type based on predicted emergency funds\n",
    "insurance_type = suggest_insurance_type(predicted_emergency_fund)\n",
    "print(f\"Predicted Insurance Type: {insurance_type}\")\n"
   ]
  },
  {
   "cell_type": "code",
   "execution_count": null,
   "metadata": {},
   "outputs": [],
   "source": []
  }
 ],
 "metadata": {
  "kernelspec": {
   "display_name": "Python 3",
   "language": "python",
   "name": "python3"
  },
  "language_info": {
   "codemirror_mode": {
    "name": "ipython",
    "version": 3
   },
   "file_extension": ".py",
   "mimetype": "text/x-python",
   "name": "python",
   "nbconvert_exporter": "python",
   "pygments_lexer": "ipython3",
   "version": "3.7.4"
  }
 },
 "nbformat": 4,
 "nbformat_minor": 2
}
